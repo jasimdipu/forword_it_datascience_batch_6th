{
 "cells": [
  {
   "cell_type": "code",
   "execution_count": 30,
   "metadata": {},
   "outputs": [],
   "source": [
    "# how to create a class\n",
    "class Student:\n",
    "    \n",
    "    # attr, functions-> constructor, funcntion\n",
    "    \n",
    "    # attr/variable -> global, local\n",
    "    # global attr/variable\n",
    "    student_name = 'X'\n",
    "    student_age = 0\n",
    "    student_dept = ''\n",
    "    \n",
    "    # constructor\n",
    "    def __init__(self, name, age, dept): # self -> class representator \n",
    "        self.student_name = name\n",
    "        self.student_age = age\n",
    "        self.student_dept = dept\n",
    "    \n",
    "    \n",
    "    def getStudentInfo(self):\n",
    "        # local variable\n",
    "        info='student info'\n",
    "        print(self.student_name)\n",
    "        print(info)\n",
    "        \n",
    "    def __str__(self):\n",
    "        return \"Student Name: {}\\nStudent Age: {}\\nStudent Department: {}\".format(self.student_name, self.student_age, self.student_dept)\n",
    "    "
   ]
  },
  {
   "cell_type": "code",
   "execution_count": 31,
   "metadata": {},
   "outputs": [],
   "source": [
    "# create an object\n",
    "student = Student(\"Shahin\", 37, \"BBA\")"
   ]
  },
  {
   "cell_type": "code",
   "execution_count": 32,
   "metadata": {},
   "outputs": [
    {
     "name": "stdout",
     "output_type": "stream",
     "text": [
      "Student Name: Shahin\n",
      "Student Age: 37\n",
      "Student Department: BBA\n"
     ]
    }
   ],
   "source": [
    "print(student)"
   ]
  },
  {
   "cell_type": "code",
   "execution_count": 11,
   "metadata": {},
   "outputs": [
    {
     "name": "stdout",
     "output_type": "stream",
     "text": [
      "X\n"
     ]
    }
   ],
   "source": [
    "student.getStudentInfo()"
   ]
  },
  {
   "cell_type": "code",
   "execution_count": 7,
   "metadata": {},
   "outputs": [],
   "source": [
    "student.student_name = \"Nasir\""
   ]
  },
  {
   "cell_type": "code",
   "execution_count": 8,
   "metadata": {},
   "outputs": [
    {
     "data": {
      "text/plain": [
       "'Nasir'"
      ]
     },
     "execution_count": 8,
     "metadata": {},
     "output_type": "execute_result"
    }
   ],
   "source": [
    "student.student_name"
   ]
  },
  {
   "cell_type": "code",
   "execution_count": 14,
   "metadata": {},
   "outputs": [
    {
     "name": "stdout",
     "output_type": "stream",
     "text": [
      "X\n",
      "student info\n"
     ]
    }
   ],
   "source": [
    "student.getStudentInfo()"
   ]
  },
  {
   "cell_type": "code",
   "execution_count": null,
   "metadata": {},
   "outputs": [],
   "source": []
  }
 ],
 "metadata": {
  "kernelspec": {
   "display_name": "Python 3",
   "language": "python",
   "name": "python3"
  },
  "language_info": {
   "codemirror_mode": {
    "name": "ipython",
    "version": 3
   },
   "file_extension": ".py",
   "mimetype": "text/x-python",
   "name": "python",
   "nbconvert_exporter": "python",
   "pygments_lexer": "ipython3",
   "version": "3.8.3"
  }
 },
 "nbformat": 4,
 "nbformat_minor": 4
}
