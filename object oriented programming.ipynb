{
 "cells": [
  {
   "cell_type": "code",
   "execution_count": 33,
   "metadata": {},
   "outputs": [],
   "source": [
    "# how to create a class\n",
    "class Student:\n",
    "    \n",
    "    # attr, functions-> constructor, funcntion\n",
    "    \n",
    "    # attr/variable -> global, local\n",
    "    # global attr/variable\n",
    "    student_name = 'X'\n",
    "    student_age = 0\n",
    "    student_dept = ''\n",
    "    \n",
    "    # constructor\n",
    "    def __init__(self, name, age, dept): # self -> class representator \n",
    "        self.student_name = name\n",
    "        self.student_age = age\n",
    "        self.student_dept = dept\n",
    "    \n",
    "    \n",
    "    def examplefunc(self):\n",
    "        # local variable\n",
    "        info='student info'\n",
    "        print(self.student_name)\n",
    "        print(info)\n",
    "        \n",
    "    def __str__(self):\n",
    "        return \"Student Name: {}\\nStudent Age: {}\\nStudent Department: {}\".format(self.student_name, self.student_age, self.student_dept)\n",
    "    "
   ]
  },
  {
   "cell_type": "code",
   "execution_count": 34,
   "metadata": {},
   "outputs": [],
   "source": [
    "# create an object\n",
    "student = Student(\"Shahin\", 37, \"BBA\")"
   ]
  },
  {
   "cell_type": "code",
   "execution_count": 32,
   "metadata": {},
   "outputs": [
    {
     "name": "stdout",
     "output_type": "stream",
     "text": [
      "Student Name: Shahin\n",
      "Student Age: 37\n",
      "Student Department: BBA\n"
     ]
    }
   ],
   "source": [
    "print(student)"
   ]
  },
  {
   "cell_type": "code",
   "execution_count": 35,
   "metadata": {},
   "outputs": [
    {
     "name": "stdout",
     "output_type": "stream",
     "text": [
      "Shahin\n",
      "student info\n"
     ]
    }
   ],
   "source": [
    "student.examplefunc()"
   ]
  },
  {
   "cell_type": "code",
   "execution_count": 7,
   "metadata": {},
   "outputs": [],
   "source": [
    "student.student_name = \"Nasir\""
   ]
  },
  {
   "cell_type": "code",
   "execution_count": 8,
   "metadata": {},
   "outputs": [
    {
     "data": {
      "text/plain": [
       "'Nasir'"
      ]
     },
     "execution_count": 8,
     "metadata": {},
     "output_type": "execute_result"
    }
   ],
   "source": [
    "student.student_name"
   ]
  },
  {
   "cell_type": "code",
   "execution_count": 14,
   "metadata": {},
   "outputs": [
    {
     "name": "stdout",
     "output_type": "stream",
     "text": [
      "X\n",
      "student info\n"
     ]
    }
   ],
   "source": [
    "student.getStudentInfo()"
   ]
  },
  {
   "cell_type": "markdown",
   "metadata": {},
   "source": [
    "# Object oriented programming"
   ]
  },
  {
   "cell_type": "code",
   "execution_count": 36,
   "metadata": {},
   "outputs": [],
   "source": [
    "# oop principles ->  1. Abstraction 2. Encapsulation, 3. Inheritance, 4. Polymorphism/duckfunction,"
   ]
  },
  {
   "cell_type": "code",
   "execution_count": 37,
   "metadata": {},
   "outputs": [],
   "source": [
    "from abc import ABC"
   ]
  },
  {
   "cell_type": "code",
   "execution_count": 38,
   "metadata": {},
   "outputs": [],
   "source": [
    "# create a abstract class\n",
    "class Employee(ABC):\n",
    "    \n",
    "    def getEmpName():\n",
    "        pass\n",
    "    \n",
    "    def getEmpDept():\n",
    "        pass\n",
    "    \n",
    "    def getEmpSalary():\n",
    "        pass"
   ]
  },
  {
   "cell_type": "code",
   "execution_count": 64,
   "metadata": {},
   "outputs": [],
   "source": [
    "# use of abstract class\n",
    "class EmpInfo(Employee):\n",
    "    \n",
    "    # encapsulation -> private(__), protected(_), public\n",
    "    \n",
    "    def __init__(self, name, dept, salary):\n",
    "        self.__emp_name = name\n",
    "        self.__emp_dept = dept\n",
    "        self.__emp_salary = salary\n",
    "        \n",
    "    def getEmpName(self):\n",
    "        return self.__emp_name\n",
    "    \n",
    "    def getEmpDept(self):\n",
    "        return self.__emp_dept\n",
    "    \n",
    "    def getEmpSalary(self):\n",
    "        return self.__emp_salary\n",
    "    \n",
    "        "
   ]
  },
  {
   "cell_type": "code",
   "execution_count": 59,
   "metadata": {},
   "outputs": [],
   "source": [
    "emp = EmpInfo(\"Abul Kalam\", \"Marketing\", 10000)"
   ]
  },
  {
   "cell_type": "code",
   "execution_count": 60,
   "metadata": {},
   "outputs": [
    {
     "data": {
      "text/plain": [
       "'Abul Kalam'"
      ]
     },
     "execution_count": 60,
     "metadata": {},
     "output_type": "execute_result"
    }
   ],
   "source": [
    "emp.getEmpName()"
   ]
  },
  {
   "cell_type": "code",
   "execution_count": 61,
   "metadata": {},
   "outputs": [
    {
     "data": {
      "text/plain": [
       "'Marketing'"
      ]
     },
     "execution_count": 61,
     "metadata": {},
     "output_type": "execute_result"
    }
   ],
   "source": [
    "emp.getEmpDept()"
   ]
  },
  {
   "cell_type": "code",
   "execution_count": 62,
   "metadata": {},
   "outputs": [
    {
     "data": {
      "text/plain": [
       "10000"
      ]
     },
     "execution_count": 62,
     "metadata": {},
     "output_type": "execute_result"
    }
   ],
   "source": [
    "emp.getEmpSalary()"
   ]
  },
  {
   "cell_type": "code",
   "execution_count": 77,
   "metadata": {},
   "outputs": [],
   "source": [
    "class Hr_emp(EmpInfo):\n",
    "    \n",
    "    def __init__(self, name, dept, salary, adress):\n",
    "        super().__init__(name, dept, salary)\n",
    "        self.__address = adress\n",
    "        \n",
    "    def getEmpAddress(self):\n",
    "        return self.__address"
   ]
  },
  {
   "cell_type": "code",
   "execution_count": 78,
   "metadata": {},
   "outputs": [],
   "source": [
    "hr = Hr_emp(\"Azad Hosen\", \"Sales\", 20000, \"Uttara, Dhaka\")"
   ]
  },
  {
   "cell_type": "code",
   "execution_count": 75,
   "metadata": {},
   "outputs": [
    {
     "data": {
      "text/plain": [
       "'Azad Hosen'"
      ]
     },
     "execution_count": 75,
     "metadata": {},
     "output_type": "execute_result"
    }
   ],
   "source": [
    "hr.getEmpName()"
   ]
  },
  {
   "cell_type": "code",
   "execution_count": 76,
   "metadata": {},
   "outputs": [
    {
     "data": {
      "text/plain": [
       "'Sales'"
      ]
     },
     "execution_count": 76,
     "metadata": {},
     "output_type": "execute_result"
    }
   ],
   "source": [
    "hr.getEmpDept()"
   ]
  },
  {
   "cell_type": "code",
   "execution_count": 79,
   "metadata": {},
   "outputs": [
    {
     "data": {
      "text/plain": [
       "'Uttara, Dhaka'"
      ]
     },
     "execution_count": 79,
     "metadata": {},
     "output_type": "execute_result"
    }
   ],
   "source": [
    "hr.getEmpAddress()"
   ]
  },
  {
   "cell_type": "code",
   "execution_count": null,
   "metadata": {},
   "outputs": [],
   "source": [
    "# Customer abstract, \n",
    "# cus_information-> name, age, address, mobile, email, \n",
    "# cus_accounts->account_no, acc_type, balance, widthdraw, deposit"
   ]
  }
 ],
 "metadata": {
  "kernelspec": {
   "display_name": "Python 3",
   "language": "python",
   "name": "python3"
  },
  "language_info": {
   "codemirror_mode": {
    "name": "ipython",
    "version": 3
   },
   "file_extension": ".py",
   "mimetype": "text/x-python",
   "name": "python",
   "nbconvert_exporter": "python",
   "pygments_lexer": "ipython3",
   "version": "3.8.3"
  }
 },
 "nbformat": 4,
 "nbformat_minor": 4
}
